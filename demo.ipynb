{
 "cells": [
  {
   "cell_type": "markdown",
   "id": "72e8f7c8",
   "metadata": {},
   "source": [
    "# A demo Jupyter Notebook that can reproduce the experiment\n"
   ]
  },
  {
   "cell_type": "code",
   "execution_count": 1,
   "id": "e1eda0ff",
   "metadata": {},
   "outputs": [],
   "source": [
    "# !pip install -r requirements.txt "
   ]
  },
  {
   "cell_type": "code",
   "execution_count": 2,
   "id": "84357a5c",
   "metadata": {},
   "outputs": [],
   "source": [
    "from src.main import Text, TextSegmenter, TextTranslator, TextEvaluator\n",
    "from cluzh_segment.predict import main as cluzh_segmenter"
   ]
  },
  {
   "cell_type": "markdown",
   "id": "b3373536",
   "metadata": {},
   "source": [
    "## Preparing"
   ]
  },
  {
   "cell_type": "code",
   "execution_count": 3,
   "id": "b0a89cd2",
   "metadata": {},
   "outputs": [],
   "source": [
    "input_text = Text('rus', 'data/input/input_text.txt')\n",
    "input_text.preprocess_text('sentence_per_line')"
   ]
  },
  {
   "cell_type": "code",
   "execution_count": 4,
   "id": "d71fcb66",
   "metadata": {},
   "outputs": [],
   "source": [
    "segmenter = TextSegmenter(source_Text=input_text)\n",
    "translator = TextTranslator(source_Text=input_text, target_lang='eng')"
   ]
  },
  {
   "cell_type": "code",
   "execution_count": 5,
   "id": "9b1a5b26",
   "metadata": {},
   "outputs": [],
   "source": [
    "input_text.preprocess_text('sentence_per_line')"
   ]
  },
  {
   "cell_type": "markdown",
   "id": "7435da24",
   "metadata": {},
   "source": [
    "# Evaluating"
   ]
  },
  {
   "cell_type": "code",
   "execution_count": 6,
   "id": "ee548a14",
   "metadata": {},
   "outputs": [],
   "source": [
    "import pandas as pd"
   ]
  },
  {
   "cell_type": "code",
   "execution_count": 7,
   "id": "15750893",
   "metadata": {},
   "outputs": [],
   "source": [
    "from nltk.translate.bleu_score import corpus_bleu\n",
    "from nltk.translate.chrf_score import corpus_chrf"
   ]
  },
  {
   "cell_type": "code",
   "execution_count": 8,
   "id": "d10ba3ea",
   "metadata": {},
   "outputs": [],
   "source": [
    "Evaluator = TextEvaluator(source_Text=input_text, cluzh=cluzh_segmenter, target_lang='eng')\n",
    "Evaluator.preprocessed_file = 'data/input/input_text.txt'\n",
    "df = Evaluator.evaluate()"
   ]
  },
  {
   "cell_type": "code",
   "execution_count": 9,
   "id": "0985645d",
   "metadata": {},
   "outputs": [],
   "source": [
    "pd.set_option('display.max_colwidth', None)"
   ]
  },
  {
   "cell_type": "code",
   "execution_count": 10,
   "id": "33a58e11",
   "metadata": {},
   "outputs": [
    {
     "data": {
      "text/html": [
       "<div>\n",
       "<style scoped>\n",
       "    .dataframe tbody tr th:only-of-type {\n",
       "        vertical-align: middle;\n",
       "    }\n",
       "\n",
       "    .dataframe tbody tr th {\n",
       "        vertical-align: top;\n",
       "    }\n",
       "\n",
       "    .dataframe thead th {\n",
       "        text-align: right;\n",
       "    }\n",
       "</style>\n",
       "<table border=\"1\" class=\"dataframe\">\n",
       "  <thead>\n",
       "    <tr style=\"text-align: right;\">\n",
       "      <th></th>\n",
       "      <th>segmented original sentence</th>\n",
       "      <th>original sentence</th>\n",
       "      <th>translated sentence</th>\n",
       "      <th>sytheticity</th>\n",
       "      <th>bleu</th>\n",
       "      <th>chrf_score</th>\n",
       "      <th>targets</th>\n",
       "    </tr>\n",
       "  </thead>\n",
       "  <tbody>\n",
       "    <tr>\n",
       "      <th>0</th>\n",
       "      <td>Золоть-ый-о по 10 0ё0-0 долларов?</td>\n",
       "      <td>Золото по 10 000 долларов?</td>\n",
       "      <td>Ten thousand dollars worth of gold?</td>\n",
       "      <td>1.600000</td>\n",
       "      <td>0.00000</td>\n",
       "      <td>1.000000e-16</td>\n",
       "      <td>Золото по 10 000 долларов</td>\n",
       "    </tr>\n",
       "    <tr>\n",
       "      <th>1</th>\n",
       "      <td>САН-ФР-АНЦИСКО. Разговор о стоимость-и золото-а редить-кий-о по-лучить-ать-ает-ся рацион-альный-им, тем боль-еть-ее в послед-ний-ее времять-я, так как цена-ы на золото выросль-и боль-еть-ё-е чем на 300% за десятилетие.</td>\n",
       "      <td>САН-ФРАНЦИСКО. Разговор о стоимости золота редко получается рациональным, тем более в последнее время, так как цены на золото выросли более чем на 300% за десятилетие.</td>\n",
       "      <td>SAN-FRANCISCO – The price of gold is rarely rational, especially in recent times, as gold prices have risen by more than 300 per cent in a decade.</td>\n",
       "      <td>1.880000</td>\n",
       "      <td>0.00698</td>\n",
       "      <td>7.449945e-03</td>\n",
       "      <td>САНФРАНЦИСКО Разговор о стоимости золота редко получается рациональным тем более в последнее время так как цены на золото выросли более чем на 300 за десятилетие</td>\n",
       "    </tr>\n",
       "    <tr>\n",
       "      <th>2</th>\n",
       "      <td>Еща-е в декабрь-е прошлый-ого год-а эконом-исты-коллега-и Мартин Фельдштейн и Нуриэль Руб-ина-и о-публиковать-л-и своить-и пророк-еский-ие статья-и в колонка-ах альтернатива-ный-ых мнений, храбрый-о ставить-ят-я в них под в-опрос стремя-ить-ение игра-ы на повысить-ение, благоразумие-ный-о у-казать-ывать-ают-я на риск-и золота.</td>\n",
       "      <td>Еще в декабре прошлого года экономисты-коллеги Мартин Фельдштейн и Нуриэль Рубини опубликовали свои пророческие статьи в колонках альтернативных мнений, храбро ставя в них под вопрос стремление игры на повышение, благоразумно указывая на риски золота.</td>\n",
       "      <td>As early as December last year, fellow economists Martin Feldstein and Nuriel Rubini published their prophetic articles in columns of alternative views, bravely questioning the desire to play a promotion by referring wisely to the risks of gold.</td>\n",
       "      <td>2.000000</td>\n",
       "      <td>0.00000</td>\n",
       "      <td>1.000000e-16</td>\n",
       "      <td>Еще в декабре прошлого года экономистыколлеги Мартин Фельдштейн и Нуриэль Рубини опубликовали свои пророческие статьи в колонках альтернативных мнений храбро ставя в них под вопрос стремление игры на повышение благоразумно указывая на риски золота</td>\n",
       "    </tr>\n",
       "    <tr>\n",
       "      <th>3</th>\n",
       "      <td>И честь-ый-о бы вы думали?</td>\n",
       "      <td>И что бы вы думали?</td>\n",
       "      <td>What would you think?</td>\n",
       "      <td>1.400000</td>\n",
       "      <td>0.00000</td>\n",
       "      <td>1.000000e-16</td>\n",
       "      <td>И что бы вы думали</td>\n",
       "    </tr>\n",
       "    <tr>\n",
       "      <th>4</th>\n",
       "      <td>С тех пор как вы-слать-ют-и их статья-и, стоим-ость золото-а повысить-л-а-ся еще больше.</td>\n",
       "      <td>С тех пор как вышли их статьи, стоимость золота повысилась еще больше.</td>\n",
       "      <td>Since their articles were published, the value of gold has increased even further.</td>\n",
       "      <td>1.750000</td>\n",
       "      <td>0.00000</td>\n",
       "      <td>1.000000e-16</td>\n",
       "      <td>С тех пор как вышли их статьи стоимость золота повысилась еще больше</td>\n",
       "    </tr>\n",
       "    <tr>\n",
       "      <th>5</th>\n",
       "      <td>Недавие-ный-о цена на золото даж-е достигнуть-ла рекорд-ный-ой от-мета-ить-ка-и в 1 3ё0-0 доллар-ов за унцию.</td>\n",
       "      <td>Недавно цена на золото даже достигла рекордной отметки в 1 300 долларов за унцию.</td>\n",
       "      <td>Recently, the price of gold even reached a record $1,300 per ounce.</td>\n",
       "      <td>1.857143</td>\n",
       "      <td>0.00000</td>\n",
       "      <td>2.584607e-02</td>\n",
       "      <td>Недавно цена на золото даже достигла рекордной отметки в 1 300 долларов за унцию</td>\n",
       "    </tr>\n",
       "    <tr>\n",
       "      <th>6</th>\n",
       "      <td>В декабрь-е прошлый-ого год-а многий-ие сторона-ний-ник-и со-хранить-ение-я деньги-ный-ых функция-ий золото-а у-твердь-ить-ать-л-и, честь-ый-о его цена неизбежный-о дойдет до 2 0ё0-0 долларов.</td>\n",
       "      <td>В декабре прошлого года многие сторонники сохранения денежных функций золота утверждали, что его цена неизбежно дойдет до 2 000 долларов.</td>\n",
       "      <td>Last December, many supporters of the preservation of gold's monetary functions claimed that its price would inevitably reach $2,000.</td>\n",
       "      <td>2.150000</td>\n",
       "      <td>0.00000</td>\n",
       "      <td>1.455716e-02</td>\n",
       "      <td>В декабре прошлого года многие сторонники сохранения денежных функций золота утверждали что его цена неизбежно дойдет до 2 000 долларов</td>\n",
       "    </tr>\n",
       "    <tr>\n",
       "      <th>7</th>\n",
       "      <td>Теперь-, во-одушевить-ю-енный-ые постоянный-ым рост-ом цен, не-который-е с-читают, честь-ый-о цена на золото мочь-ет вы-растить-и еще сильнее.</td>\n",
       "      <td>Теперь, воодушевленные постоянным ростом цен, некоторые считают, что цена на золото может вырасти еще сильнее.</td>\n",
       "      <td>Now, encouraged by the constant rise in prices, some believe that the price of gold can rise even further.</td>\n",
       "      <td>2.000000</td>\n",
       "      <td>0.00000</td>\n",
       "      <td>1.000000e-16</td>\n",
       "      <td>Теперь воодушевленные постоянным ростом цен некоторые считают что цена на золото может вырасти еще сильнее</td>\n",
       "    </tr>\n",
       "    <tr>\n",
       "      <th>8</th>\n",
       "      <td>Один успех-ный инвестор в золото не-давний-о объяснить-л мять-е, честь-ый-о цена акция-ий падать-л-а в течь-ение боль-еть-ё-е десятилетие-я, прежда-е чем в начал-е 1980-х гг. индекс Доу Джонс-а пересек 1 0ё0-0 отметку.</td>\n",
       "      <td>Один успешный инвестор в золото недавно объяснил мне, что цена акций падала в течение более десятилетия, прежде чем в начале 1980-х гг. индекс Доу Джонса пересек 1 000 отметку.</td>\n",
       "      <td>A successful gold investor recently explained to me that the stock price had fallen for over a decade before the Dow Jones index crossed 1,000 marks in the early 1980s.</td>\n",
       "      <td>1.689655</td>\n",
       "      <td>0.00000</td>\n",
       "      <td>2.357497e-02</td>\n",
       "      <td>Один успешный инвестор в золото недавно объяснил мне что цена акций падала в течение более десятилетия прежде чем в начале 1980х гг индекс Доу Джонса пересек 1 000 отметку</td>\n",
       "    </tr>\n",
       "    <tr>\n",
       "      <th>9</th>\n",
       "      <td>С тех пор дать-нный индекс постоянный-о рос и ужа-е превысить-л 10 0ё0-0 отметку.</td>\n",
       "      <td>С тех пор данный индекс постоянно рос и уже превысил 10 000 отметку.</td>\n",
       "      <td>Since then, the index has been constantly growing and has already exceeded 10,000.</td>\n",
       "      <td>1.384615</td>\n",
       "      <td>0.00000</td>\n",
       "      <td>4.558889e-02</td>\n",
       "      <td>С тех пор данный индекс постоянно рос и уже превысил 10 000 отметку</td>\n",
       "    </tr>\n",
       "  </tbody>\n",
       "</table>\n",
       "</div>"
      ],
      "text/plain": [
       "                                                                                                                                                                                                                                                                                                                segmented original sentence  \\\n",
       "0                                                                                                                                                                                                                                                                                                         Золоть-ый-о по 10 0ё0-0 долларов?   \n",
       "1                                                                                                                САН-ФР-АНЦИСКО. Разговор о стоимость-и золото-а редить-кий-о по-лучить-ать-ает-ся рацион-альный-им, тем боль-еть-ее в послед-ний-ее времять-я, так как цена-ы на золото выросль-и боль-еть-ё-е чем на 300% за десятилетие.   \n",
       "2  Еща-е в декабрь-е прошлый-ого год-а эконом-исты-коллега-и Мартин Фельдштейн и Нуриэль Руб-ина-и о-публиковать-л-и своить-и пророк-еский-ие статья-и в колонка-ах альтернатива-ный-ых мнений, храбрый-о ставить-ят-я в них под в-опрос стремя-ить-ение игра-ы на повысить-ение, благоразумие-ный-о у-казать-ывать-ают-я на риск-и золота.   \n",
       "3                                                                                                                                                                                                                                                                                                                И честь-ый-о бы вы думали?   \n",
       "4                                                                                                                                                                                                                                                  С тех пор как вы-слать-ют-и их статья-и, стоим-ость золото-а повысить-л-а-ся еще больше.   \n",
       "5                                                                                                                                                                                                                             Недавие-ный-о цена на золото даж-е достигнуть-ла рекорд-ный-ой от-мета-ить-ка-и в 1 3ё0-0 доллар-ов за унцию.   \n",
       "6                                                                                                                                          В декабрь-е прошлый-ого год-а многий-ие сторона-ний-ник-и со-хранить-ение-я деньги-ный-ых функция-ий золото-а у-твердь-ить-ать-л-и, честь-ый-о его цена неизбежный-о дойдет до 2 0ё0-0 долларов.   \n",
       "7                                                                                                                                                                                            Теперь-, во-одушевить-ю-енный-ые постоянный-ым рост-ом цен, не-который-е с-читают, честь-ый-о цена на золото мочь-ет вы-растить-и еще сильнее.   \n",
       "8                                                                                                                Один успех-ный инвестор в золото не-давний-о объяснить-л мять-е, честь-ый-о цена акция-ий падать-л-а в течь-ение боль-еть-ё-е десятилетие-я, прежда-е чем в начал-е 1980-х гг. индекс Доу Джонс-а пересек 1 0ё0-0 отметку.   \n",
       "9                                                                                                                                                                                                                                                         С тех пор дать-нный индекс постоянный-о рос и ужа-е превысить-л 10 0ё0-0 отметку.   \n",
       "\n",
       "                                                                                                                                                                                                                                             original sentence  \\\n",
       "0                                                                                                                                                                                                                                   Золото по 10 000 долларов?   \n",
       "1                                                                                      САН-ФРАНЦИСКО. Разговор о стоимости золота редко получается рациональным, тем более в последнее время, так как цены на золото выросли более чем на 300% за десятилетие.   \n",
       "2  Еще в декабре прошлого года экономисты-коллеги Мартин Фельдштейн и Нуриэль Рубини опубликовали свои пророческие статьи в колонках альтернативных мнений, храбро ставя в них под вопрос стремление игры на повышение, благоразумно указывая на риски золота.   \n",
       "3                                                                                                                                                                                                                                          И что бы вы думали?   \n",
       "4                                                                                                                                                                                       С тех пор как вышли их статьи, стоимость золота повысилась еще больше.   \n",
       "5                                                                                                                                                                            Недавно цена на золото даже достигла рекордной отметки в 1 300 долларов за унцию.   \n",
       "6                                                                                                                    В декабре прошлого года многие сторонники сохранения денежных функций золота утверждали, что его цена неизбежно дойдет до 2 000 долларов.   \n",
       "7                                                                                                                                               Теперь, воодушевленные постоянным ростом цен, некоторые считают, что цена на золото может вырасти еще сильнее.   \n",
       "8                                                                             Один успешный инвестор в золото недавно объяснил мне, что цена акций падала в течение более десятилетия, прежде чем в начале 1980-х гг. индекс Доу Джонса пересек 1 000 отметку.   \n",
       "9                                                                                                                                                                                         С тех пор данный индекс постоянно рос и уже превысил 10 000 отметку.   \n",
       "\n",
       "                                                                                                                                                                                                                                     translated sentence  \\\n",
       "0                                                                                                                                                                                                                    Ten thousand dollars worth of gold?   \n",
       "1                                                                                                     SAN-FRANCISCO – The price of gold is rarely rational, especially in recent times, as gold prices have risen by more than 300 per cent in a decade.   \n",
       "2  As early as December last year, fellow economists Martin Feldstein and Nuriel Rubini published their prophetic articles in columns of alternative views, bravely questioning the desire to play a promotion by referring wisely to the risks of gold.   \n",
       "3                                                                                                                                                                                                                                  What would you think?   \n",
       "4                                                                                                                                                                     Since their articles were published, the value of gold has increased even further.   \n",
       "5                                                                                                                                                                                    Recently, the price of gold even reached a record $1,300 per ounce.   \n",
       "6                                                                                                                  Last December, many supporters of the preservation of gold's monetary functions claimed that its price would inevitably reach $2,000.   \n",
       "7                                                                                                                                             Now, encouraged by the constant rise in prices, some believe that the price of gold can rise even further.   \n",
       "8                                                                               A successful gold investor recently explained to me that the stock price had fallen for over a decade before the Dow Jones index crossed 1,000 marks in the early 1980s.   \n",
       "9                                                                                                                                                                     Since then, the index has been constantly growing and has already exceeded 10,000.   \n",
       "\n",
       "   sytheticity     bleu    chrf_score  \\\n",
       "0     1.600000  0.00000  1.000000e-16   \n",
       "1     1.880000  0.00698  7.449945e-03   \n",
       "2     2.000000  0.00000  1.000000e-16   \n",
       "3     1.400000  0.00000  1.000000e-16   \n",
       "4     1.750000  0.00000  1.000000e-16   \n",
       "5     1.857143  0.00000  2.584607e-02   \n",
       "6     2.150000  0.00000  1.455716e-02   \n",
       "7     2.000000  0.00000  1.000000e-16   \n",
       "8     1.689655  0.00000  2.357497e-02   \n",
       "9     1.384615  0.00000  4.558889e-02   \n",
       "\n",
       "                                                                                                                                                                                                                                                   targets  \n",
       "0                                                                                                                                                                                                                                Золото по 10 000 долларов  \n",
       "1                                                                                        САНФРАНЦИСКО Разговор о стоимости золота редко получается рациональным тем более в последнее время так как цены на золото выросли более чем на 300 за десятилетие  \n",
       "2  Еще в декабре прошлого года экономистыколлеги Мартин Фельдштейн и Нуриэль Рубини опубликовали свои пророческие статьи в колонках альтернативных мнений храбро ставя в них под вопрос стремление игры на повышение благоразумно указывая на риски золота  \n",
       "3                                                                                                                                                                                                                                       И что бы вы думали  \n",
       "4                                                                                                                                                                                     С тех пор как вышли их статьи стоимость золота повысилась еще больше  \n",
       "5                                                                                                                                                                         Недавно цена на золото даже достигла рекордной отметки в 1 300 долларов за унцию  \n",
       "6                                                                                                                  В декабре прошлого года многие сторонники сохранения денежных функций золота утверждали что его цена неизбежно дойдет до 2 000 долларов  \n",
       "7                                                                                                                                               Теперь воодушевленные постоянным ростом цен некоторые считают что цена на золото может вырасти еще сильнее  \n",
       "8                                                                              Один успешный инвестор в золото недавно объяснил мне что цена акций падала в течение более десятилетия прежде чем в начале 1980х гг индекс Доу Джонса пересек 1 000 отметку  \n",
       "9                                                                                                                                                                                      С тех пор данный индекс постоянно рос и уже превысил 10 000 отметку  "
      ]
     },
     "execution_count": 10,
     "metadata": {},
     "output_type": "execute_result"
    }
   ],
   "source": [
    "df"
   ]
  },
  {
   "cell_type": "code",
   "execution_count": null,
   "id": "183bd1ac",
   "metadata": {},
   "outputs": [],
   "source": []
  }
 ],
 "metadata": {
  "kernelspec": {
   "display_name": "termpaper",
   "language": "python",
   "name": "python3"
  },
  "language_info": {
   "codemirror_mode": {
    "name": "ipython",
    "version": 3
   },
   "file_extension": ".py",
   "mimetype": "text/x-python",
   "name": "python",
   "nbconvert_exporter": "python",
   "pygments_lexer": "ipython3",
   "version": "3.11.9"
  }
 },
 "nbformat": 4,
 "nbformat_minor": 5
}
