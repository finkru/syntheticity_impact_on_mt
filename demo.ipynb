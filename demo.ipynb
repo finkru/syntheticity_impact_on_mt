{
 "cells": [
  {
   "cell_type": "markdown",
   "id": "72e8f7c8",
   "metadata": {},
   "source": [
    "# A demo Jupyter Notebook that can reproduce the experiment\n"
   ]
  },
  {
   "cell_type": "code",
   "execution_count": null,
   "id": "e1eda0ff",
   "metadata": {},
   "outputs": [],
   "source": [
    "# !pip install -r requirements.txt "
   ]
  },
  {
   "cell_type": "code",
   "execution_count": 2,
   "id": "9d46ff06",
   "metadata": {},
   "outputs": [],
   "source": [
    "from src.main import Text, TextSegmenter, TextTranslator\n",
    "from cluzh_segment.predict import main as cluzh "
   ]
  },
  {
   "cell_type": "markdown",
   "id": "b3373536",
   "metadata": {},
   "source": [
    "## Segmenting"
   ]
  },
  {
   "cell_type": "code",
   "execution_count": null,
   "id": "b0a89cd2",
   "metadata": {},
   "outputs": [
    {
     "name": "stdout",
     "output_type": "stream",
     "text": [
      "This text has 298 words and its syntheticity is 2.0033557046979866 segments per word\n"
     ]
    }
   ],
   "source": [
    "RandomWikiArticle = Text('rus', 'data/input/random_wiki.txt')\n",
    "RandomWikiArticle.preprocess_text('for_segmenting')\n",
    "\n",
    "SRWikiArticle = TextSegmenter(source_text=RandomWikiArticle)\n",
    "SRandomWikiArticle.segment_with_CLUZH(cluzh)\n",
    "SRandomWikiArticle.describe()"
   ]
  },
  {
   "cell_type": "markdown",
   "id": "45a22a0f",
   "metadata": {},
   "source": [
    "# Translating"
   ]
  },
  {
   "cell_type": "code",
   "execution_count": null,
   "id": "fd885a63",
   "metadata": {},
   "outputs": [],
   "source": [
    "RandomWikiArticle.preprocess_text('for_translating')\n",
    "\n",
    "TRWikiArticle = TextTranslator(source_text=RandomWikiArticle, target_lang='eng')\n"
   ]
  }
 ],
 "metadata": {
  "kernelspec": {
   "display_name": "termpaper",
   "language": "python",
   "name": "python3"
  },
  "language_info": {
   "codemirror_mode": {
    "name": "ipython",
    "version": 3
   },
   "file_extension": ".py",
   "mimetype": "text/x-python",
   "name": "python",
   "nbconvert_exporter": "python",
   "pygments_lexer": "ipython3",
   "version": "3.12.3"
  }
 },
 "nbformat": 4,
 "nbformat_minor": 5
}
