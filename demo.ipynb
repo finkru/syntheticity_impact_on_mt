{
 "cells": [
  {
   "cell_type": "markdown",
   "id": "72e8f7c8",
   "metadata": {},
   "source": [
    "# A demo Jupyter Notebook that can reproduce the experiment\n"
   ]
  },
  {
   "cell_type": "markdown",
   "id": "b3373536",
   "metadata": {},
   "source": [
    "## Segmenting"
   ]
  },
  {
   "cell_type": "code",
   "execution_count": 1,
   "id": "b0a89cd2",
   "metadata": {},
   "outputs": [],
   "source": [
    "from src.segmentation import TextWithSegments\n",
    "from cluzh_segment.predict import main as cluzh "
   ]
  },
  {
   "cell_type": "code",
   "execution_count": 7,
   "id": "bc3e2874",
   "metadata": {},
   "outputs": [],
   "source": [
    "RandomWikiArticle = TextWithSegments('data/seg_input/random_wiki.txt', 'eng')"
   ]
  },
  {
   "cell_type": "code",
   "execution_count": 8,
   "id": "5da2858d",
   "metadata": {},
   "outputs": [],
   "source": [
    "RandomWikiArticle.process_text()"
   ]
  },
  {
   "cell_type": "code",
   "execution_count": 9,
   "id": "006a7f94",
   "metadata": {},
   "outputs": [],
   "source": [
    "RandomWikiArticle.segment_with_CLUZH(cluzh)"
   ]
  },
  {
   "cell_type": "code",
   "execution_count": 10,
   "id": "a8fd291e",
   "metadata": {},
   "outputs": [
    {
     "name": "stdout",
     "output_type": "stream",
     "text": [
      "This text has 468 and its syntheticity is 1.2905982905982907 segments per word\n"
     ]
    }
   ],
   "source": [
    "print(RandomWikiArticle)"
   ]
  }
 ],
 "metadata": {
  "kernelspec": {
   "display_name": "termpaper",
   "language": "python",
   "name": "python3"
  },
  "language_info": {
   "codemirror_mode": {
    "name": "ipython",
    "version": 3
   },
   "file_extension": ".py",
   "mimetype": "text/x-python",
   "name": "python",
   "nbconvert_exporter": "python",
   "pygments_lexer": "ipython3",
   "version": "3.12.3"
  }
 },
 "nbformat": 4,
 "nbformat_minor": 5
}
