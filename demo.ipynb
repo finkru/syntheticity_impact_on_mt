{
 "cells": [
  {
   "cell_type": "markdown",
   "id": "72e8f7c8",
   "metadata": {},
   "source": [
    "# A demo Jupyter Notebook that can reproduce the experiment\n"
   ]
  },
  {
   "cell_type": "code",
   "execution_count": 3,
   "id": "e1eda0ff",
   "metadata": {},
   "outputs": [],
   "source": [
    "# !pip install -r requirements.txt "
   ]
  },
  {
   "cell_type": "markdown",
   "id": "b3373536",
   "metadata": {},
   "source": [
    "## Segmenting"
   ]
  },
  {
   "cell_type": "code",
   "execution_count": 4,
   "id": "b0a89cd2",
   "metadata": {},
   "outputs": [],
   "source": [
    "from src.segmentation import TextWithSegments\n",
    "from cluzh_segment.predict import main as cluzh "
   ]
  },
  {
   "cell_type": "code",
   "execution_count": 5,
   "id": "bc3e2874",
   "metadata": {},
   "outputs": [],
   "source": [
    "RandomWikiArticle = TextWithSegments('data/seg_input/random_wiki.txt', 'eng')"
   ]
  },
  {
   "cell_type": "code",
   "execution_count": 6,
   "id": "5da2858d",
   "metadata": {},
   "outputs": [],
   "source": [
    "RandomWikiArticle.process_text()"
   ]
  },
  {
   "cell_type": "code",
   "execution_count": 7,
   "id": "006a7f94",
   "metadata": {},
   "outputs": [],
   "source": [
    "RandomWikiArticle.segment_with_CLUZH(cluzh, save_segments=True)"
   ]
  },
  {
   "cell_type": "code",
   "execution_count": 8,
   "id": "f1b48d98",
   "metadata": {},
   "outputs": [
    {
     "name": "stdout",
     "output_type": "stream",
     "text": [
      "This text has 468 and its syntheticity is 1.2905982905982907 segments per word\n"
     ]
    }
   ],
   "source": [
    "RandomWikiArticle.describe()"
   ]
  },
  {
   "cell_type": "code",
   "execution_count": 9,
   "id": "a8fd291e",
   "metadata": {},
   "outputs": [
    {
     "name": "stdout",
     "output_type": "stream",
     "text": [
      "The attack took place on the morn-ing of Sunday April dure-ing High Mass at the Duomo of Florence Unusual-ly Lorenzo and Giuliano were both present and were attack-ed at the same time Lorenzo wa-s attack-ed by two of Jacopo Pazzi'-s men but manage-ed to escape to the sacristy and thence to hi-s home Giuliano wa-s kill-ed by Bernardo Bandini dei Baroncelli and Francesco de' Pazzi Archbishop Salviati with a numb-er of Jacopo Pazzi'-s men went to the Palazzo della Signoria and attempt-ed to take control of it but wa-s un-success-ful – the Florentine-s did no-t rise against the Medici a-s the Pazzi had hope-ed they would Salviati wa-s ad-rest-ed and with Francesco de' Pazzi and several other-s wa-s hang-ed from the window-s of the Palazzo della Signoria Many of the conspire-ator-s a-s well a-s mane-y people accuse-ed of be-ing conspire-ator-s were kill-ed more than three-ty die-ed on the day of the attack Most were soon caught and summary-ly execute-ed Renato de' Pazzi wa-s lynch-ed and hang-ed Jacopo de' Pazzi head of the family escape-ed from Florence but wa-s caught and brought back He wa-s torture-ed then hang-ed from the Palazzo della Signoria next to the de-compose-ing corpse of Salviati He wa-s bury-ed at Santa Croce but the body wa-s dug up and throw-n into a ditch It wa-s then drag-ed through the street-s and prop-ed up at the door of Palazzo Pazzi where the rot-ing head wa-s mock-ing-ly use-ed a-s a door-knock-er From there it wa-s throw-n into the Arno child-ren fish-ed it out and hung it from a willow tree flog-ed it and then threw it back into the rive-er Lorenzo did manage to save the nephew of Sixtus IV Cardinal Raffaele Riario who wa-s al-most certain-ly an innocent pawn of the conspire-ator-s a-s well a-s two relate-ive-s of the conspire-ator-s The main conspire-ator-s were hunt-ed down throughout Italy Between April the day of the attack and October a total of eight-ty people were execute-ed Bandini dei Baroncelli who had escape-ed to Constantinople wa-s ad-rest-ed and re-turn-ed in fetter-s by the Sultan Mehmed II and – still in Turk-ish clothe-ing – wa-s hang-ed from a window of the Palazzo del Capitano del Popolo on December There were three down-hill-er execute-ion-s on June The Pazzi were banish-ed from Florence and their land-s and proper-ty confiscate-ed Their name and their coat of arm-s were perpetual-ly suppress-ed the name wa-s erase-ed from public register-s and all build-ing-s and street-s carry-ing it were re-name-ed their shield with it-s dolphin-s wa-s every-where obliterate-ed Anyone name-ed Pazzi had to take a new name anyone marry-ed to a Pazzi wa-s bar-ed from public office Guglielmo de' Pazzi husband of Lorenzo's sister Bianca wa-s place-ed under house ad-rest and late-er for-bid-en to enter the city he went to live at Torre a Decima near Pontassieve \n"
     ]
    }
   ],
   "source": [
    "print(RandomWikiArticle)"
   ]
  }
 ],
 "metadata": {
  "kernelspec": {
   "display_name": "termpaper",
   "language": "python",
   "name": "python3"
  },
  "language_info": {
   "codemirror_mode": {
    "name": "ipython",
    "version": 3
   },
   "file_extension": ".py",
   "mimetype": "text/x-python",
   "name": "python",
   "nbconvert_exporter": "python",
   "pygments_lexer": "ipython3",
   "version": "3.12.3"
  }
 },
 "nbformat": 4,
 "nbformat_minor": 5
}
