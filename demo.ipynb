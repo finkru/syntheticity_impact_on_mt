{
 "cells": [
  {
   "cell_type": "markdown",
   "id": "72e8f7c8",
   "metadata": {},
   "source": [
    "# A demo Jupyter Notebook that can reproduce the experiment\n"
   ]
  },
  {
   "cell_type": "code",
   "execution_count": 1,
   "id": "e1eda0ff",
   "metadata": {},
   "outputs": [],
   "source": [
    "# !pip install -r requirements.txt "
   ]
  },
  {
   "cell_type": "code",
   "execution_count": 2,
   "id": "84357a5c",
   "metadata": {},
   "outputs": [],
   "source": [
    "from src.main import Text, TextSegmenter, TextTranslator, TextEvaluator\n",
    "from cluzh_segment.predict import main as cluzh_segmenter"
   ]
  },
  {
   "cell_type": "markdown",
   "id": "b3373536",
   "metadata": {},
   "source": [
    "## Preparing"
   ]
  },
  {
   "cell_type": "code",
   "execution_count": 3,
   "id": "b0a89cd2",
   "metadata": {},
   "outputs": [],
   "source": [
    "input_text = Text('rus', 'data/input/input_text.txt')\n",
    "input_text.preprocess_text('sentence_per_line')"
   ]
  },
  {
   "cell_type": "markdown",
   "id": "7435da24",
   "metadata": {},
   "source": [
    "# Evaluating"
   ]
  },
  {
   "cell_type": "code",
   "execution_count": 4,
   "id": "ee548a14",
   "metadata": {},
   "outputs": [],
   "source": [
    "import pandas as pd"
   ]
  },
  {
   "cell_type": "code",
   "execution_count": 5,
   "id": "d10ba3ea",
   "metadata": {},
   "outputs": [],
   "source": [
    "Evaluator = TextEvaluator(source_Text=input_text, cluzh=cluzh_segmenter, target_lang='eng')\n"
   ]
  },
  {
   "cell_type": "code",
   "execution_count": null,
   "id": "4352922c",
   "metadata": {},
   "outputs": [],
   "source": [
    "Evaluator.preprocessed_file = 'data/input/input_text.txt'\n",
    "# downloads comet model\n",
    "df = Evaluator.evaluate_with_comet()\n",
    "df.to_csv('data/output/comet.csv', index=False)"
   ]
  },
  {
   "cell_type": "code",
   "execution_count": 51,
   "id": "d7ee3651",
   "metadata": {},
   "outputs": [
    {
     "data": {
      "text/html": [
       "<div>\n",
       "<style scoped>\n",
       "    .dataframe tbody tr th:only-of-type {\n",
       "        vertical-align: middle;\n",
       "    }\n",
       "\n",
       "    .dataframe tbody tr th {\n",
       "        vertical-align: top;\n",
       "    }\n",
       "\n",
       "    .dataframe thead th {\n",
       "        text-align: right;\n",
       "    }\n",
       "</style>\n",
       "<table border=\"1\" class=\"dataframe\">\n",
       "  <thead>\n",
       "    <tr style=\"text-align: right;\">\n",
       "      <th></th>\n",
       "      <th>segmented original sentence</th>\n",
       "      <th>original sentence</th>\n",
       "      <th>translated sentence</th>\n",
       "      <th>syntheticity</th>\n",
       "      <th>bleu</th>\n",
       "      <th>chrf_score</th>\n",
       "      <th>targets</th>\n",
       "      <th>comet_score</th>\n",
       "    </tr>\n",
       "  </thead>\n",
       "  <tbody>\n",
       "    <tr>\n",
       "      <th>2</th>\n",
       "      <td>Еща-е в декабрь-е прошлый-ого год-а эконом-исты-коллега-и Мартин Фельдштейн и Нуриэль Руб-ина-и о-публиковать-л-и своить-и пророк-еский-ие статья-и в колонка-ах альтернатива-ный-ых мнений, храбрый-о ставить-ят-я в них под в-опрос стремя-ить-ение игра-ы на повысить-ение, благоразумие-ный-о у-казать-ывать-ают-я на риск-и золота.</td>\n",
       "      <td>Еще в декабре прошлого года экономисты-коллеги Мартин Фельдштейн и Нуриэль Рубини опубликовали свои пророческие статьи в колонках альтернативных мнений, храбро ставя в них под вопрос стремление игры на повышение, благоразумно указывая на риски золота.</td>\n",
       "      <td>As early as December last year, fellow economists Martin Feldstein and Nuriel Rubini published their prophetic articles in columns of alternative views, bravely questioning the desire to play a promotion by referring wisely to the risks of gold.</td>\n",
       "      <td>2.0</td>\n",
       "      <td>0.113274</td>\n",
       "      <td>0.439785</td>\n",
       "      <td>Lately with gold prices up more than 300 over the last decade it is harder than ever Just last December fellow economists Martin Feldstein and Nouriel Roubini each penned opeds bravely questioning bullish market sentiment sensibly pointing out gold’s risks</td>\n",
       "      <td>0.066377</td>\n",
       "    </tr>\n",
       "  </tbody>\n",
       "</table>\n",
       "</div>"
      ],
      "text/plain": [
       "                                                                                                                                                                                                                                                                                                                segmented original sentence  \\\n",
       "2  Еща-е в декабрь-е прошлый-ого год-а эконом-исты-коллега-и Мартин Фельдштейн и Нуриэль Руб-ина-и о-публиковать-л-и своить-и пророк-еский-ие статья-и в колонка-ах альтернатива-ный-ых мнений, храбрый-о ставить-ят-я в них под в-опрос стремя-ить-ение игра-ы на повысить-ение, благоразумие-ный-о у-казать-ывать-ают-я на риск-и золота.   \n",
       "\n",
       "                                                                                                                                                                                                                                             original sentence  \\\n",
       "2  Еще в декабре прошлого года экономисты-коллеги Мартин Фельдштейн и Нуриэль Рубини опубликовали свои пророческие статьи в колонках альтернативных мнений, храбро ставя в них под вопрос стремление игры на повышение, благоразумно указывая на риски золота.   \n",
       "\n",
       "                                                                                                                                                                                                                                     translated sentence  \\\n",
       "2  As early as December last year, fellow economists Martin Feldstein and Nuriel Rubini published their prophetic articles in columns of alternative views, bravely questioning the desire to play a promotion by referring wisely to the risks of gold.   \n",
       "\n",
       "   syntheticity      bleu  chrf_score  \\\n",
       "2           2.0  0.113274    0.439785   \n",
       "\n",
       "                                                                                                                                                                                                                                                            targets  \\\n",
       "2  Lately with gold prices up more than 300 over the last decade it is harder than ever Just last December fellow economists Martin Feldstein and Nouriel Roubini each penned opeds bravely questioning bullish market sentiment sensibly pointing out gold’s risks   \n",
       "\n",
       "   comet_score  \n",
       "2     0.066377  "
      ]
     },
     "execution_count": 51,
     "metadata": {},
     "output_type": "execute_result"
    }
   ],
   "source": [
    "# render full content of the cell in the dataframe\n",
    "pd.set_option('display.max_colwidth', None) \n",
    "# sample of the dataframe with comet scores higher than 0.5\n",
    "df[df['comet_score'] < 0.1].head(1) "
   ]
  },
  {
   "cell_type": "code",
   "execution_count": 52,
   "id": "183bd1ac",
   "metadata": {},
   "outputs": [
    {
     "name": "stdout",
     "output_type": "stream",
     "text": [
      "0.025638476390192854\n",
      "0.07210445714180334\n",
      "-0.1439711888907458\n"
     ]
    }
   ],
   "source": [
    "correlation_value = df['syntheticity'].corr(df['bleu'])\n",
    "print(correlation_value)\n",
    "correlation_value = df['syntheticity'].corr(df['chrf_score'])\n",
    "print(correlation_value)\n",
    "correlation_value = df['syntheticity'].corr(df['comet_score'])\n",
    "print(correlation_value)"
   ]
  }
 ],
 "metadata": {
  "kernelspec": {
   "display_name": "termpaper",
   "language": "python",
   "name": "python3"
  },
  "language_info": {
   "codemirror_mode": {
    "name": "ipython",
    "version": 3
   },
   "file_extension": ".py",
   "mimetype": "text/x-python",
   "name": "python",
   "nbconvert_exporter": "python",
   "pygments_lexer": "ipython3",
   "version": "3.11.9"
  }
 },
 "nbformat": 4,
 "nbformat_minor": 5
}
